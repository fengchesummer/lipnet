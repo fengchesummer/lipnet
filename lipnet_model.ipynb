{
 "cells": [
  {
   "cell_type": "code",
   "execution_count": 8,
   "metadata": {},
   "outputs": [],
   "source": [
    "import sys\n",
    "import mxnet as mx\n",
    "from mxnet import gluon, autograd ,nd\n",
    "import argparse\n",
    "from trainer import  setting_ctx, Train, char_beam_search\n",
    "from data_loader import LipsDataset\n",
    "from models.network import LipNet\n",
    "from mxnet.gluon.data.vision import transforms\n",
    "from tqdm import tqdm, trange\n",
    "from utils.common import *"
   ]
  },
  {
   "cell_type": "markdown",
   "metadata": {},
   "source": [
    "## Set the argument"
   ]
  },
  {
   "cell_type": "code",
   "execution_count": 2,
   "metadata": {},
   "outputs": [],
   "source": [
    "args = dict()\n",
    "args['batch_size'] = 64\n",
    "args['epochs'] = 100\n",
    "args['image_path'] = '/home/ubuntu/works/2018/lips_model/data/datasets/'\n",
    "args['align_path'] = '/home/ubuntu/works/2018/lips_model/data/align/'\n",
    "args['dr_rate'] = 0.5\n",
    "args['use_gpu'] = True\n",
    "args['num_workers'] = 2\n",
    "\n",
    "ctx = setting_ctx(args['use_gpu'])"
   ]
  },
  {
   "cell_type": "markdown",
   "metadata": {},
   "source": [
    "## Prepare the Data"
   ]
  },
  {
   "cell_type": "code",
   "execution_count": 3,
   "metadata": {},
   "outputs": [],
   "source": [
    "input_transform  = transforms.Compose([transforms.ToTensor()\n",
    "                                    , transforms.Normalize((0.7136,0.4906,0.3283),(0.1138,0.1078,0.0917))\n",
    "                                 ])\n",
    "training_dataset = LipsDataset(args['image_path'], args['align_path'], transform=input_transform)\n",
    "train_dataloader = mx.gluon.data.DataLoader(training_dataset, batch_size=args['batch_size'], shuffle=True,num_workers=args['num_workers'] )"
   ]
  },
  {
   "cell_type": "markdown",
   "metadata": {},
   "source": [
    "## Create the Model"
   ]
  },
  {
   "cell_type": "code",
   "execution_count": 4,
   "metadata": {},
   "outputs": [],
   "source": [
    "net = LipNet(args['dr_rate'])\n",
    "net.initialize(ctx=ctx)\n",
    "\n",
    "loss_fn = gluon.loss.CTCLoss()\n",
    "trainer = gluon.Trainer(net.collect_params(),optimizer='adam',optimizer_params={'learning_rate':1e-4,'beta1':0.9,'beta2':0.999})"
   ]
  },
  {
   "cell_type": "markdown",
   "metadata": {},
   "source": [
    "## Fit the Model"
   ]
  },
  {
   "cell_type": "code",
   "execution_count": 6,
   "metadata": {},
   "outputs": [
    {
     "name": "stderr",
     "output_type": "stream",
     "text": [
      "  0%|          | 0/498 [00:00<?, ?it/s]\n"
     ]
    }
   ],
   "source": [
    "best_loss = sys.maxsize\n",
    "for e in trange(args['epochs']):\n",
    "    i = 0;\n",
    "    for input_data, label in tqdm(train_dataloader):\n",
    "        input_data = nd.transpose(input_data,(0,2,1,3,4))\n",
    "        input_data = input_data.copyto(ctx)\n",
    "        label = label.copyto(ctx)\n",
    "        \n",
    "        with autograd.record():\n",
    "            with autograd.train_mode():\n",
    "                out = net(input_data)\n",
    "            \n",
    "                loss_val = loss_fn(out,label)\n",
    "                loss_val.backward()\n",
    "        trainer.step(input_data.shape[0])\n",
    "        \n",
    "        if i % 20 == 0:\n",
    "            print(\"epoch:{e} iter:{i} loss:{l}\".format(e=e,i=i,l=loss_val.mean().asscalar()))\n",
    "            current_loss = loss_val.mean().asscalar()\n",
    "            if best_loss > current_loss:\n",
    "                net_file_name = \"best_model_epoches_\"+str(e)+\"iter_\"+str(i)+\"loss_\"+str(round(current_loss,2))\n",
    "                net.save_parameters('./checkpoint/'+net_file_name)\n",
    "                best_loss = current_loss\n",
    "        i = i+1"
   ]
  },
  {
   "cell_type": "markdown",
   "metadata": {},
   "source": [
    "## Evaluate the Model"
   ]
  },
  {
   "cell_type": "code",
   "execution_count": 9,
   "metadata": {},
   "outputs": [
    {
     "name": "stdout",
     "output_type": "stream",
     "text": [
      "target:set red in l two soon  pred:set red in s two soon\n",
      "target:place green at x six soon  pred:place green at x six soon\n",
      "target:lay green by x nine soon  pred:lay green by x nine soon\n",
      "target:lay white at d seven again  pred:lay white at d seven again\n",
      "target:place green with k seven again  pred:place green with k seven again\n",
      "target:place blue with i seven soon  pred:place blue with i seven soon\n",
      "target:lay blue by j five please  pred:lay blue by j five please\n",
      "target:place green at d nine soon  pred:place green at c nine soon\n",
      "target:set white in h three now  pred:set white in h three now\n",
      "target:set green in l seven now  pred:set green in l seven now\n",
      "target:lay blue with c six soon  pred:lay blue with t six soon\n",
      "target:place blue at i one soon  pred:place blue at i one soon\n",
      "target:lay red at v six now  pred:lay red in v six now\n",
      "target:place red by j one again  pred:place red by j one again\n",
      "target:bin white with n five again  pred:bin white with n five again\n",
      "target:set blue at z six please  pred:set blue at z six please\n",
      "target:lay green with d four again  pred:lay green with d four again\n",
      "target:lay blue by x seven please  pred:lay blue by x seven please\n",
      "target:place red at c one please  pred:place red an c one please\n",
      "target:place blue in b three please  pred:place blue in b three please\n",
      "target:set green by g one soon  pred:set green by g one soon\n",
      "target:lay blue by x one soon  pred:lay blue by h one soon\n",
      "target:lay white in q five soon  pred:lay white in q five soon\n",
      "target:lay blue in a nine again  pred:lay blue in x nine again\n",
      "target:lay blue at q one again  pred:lay blue in d one again\n",
      "target:set white in b two again  pred:set white it b two again\n",
      "target:lay white by k nine now  pred:lay white by k nine now\n",
      "target:set white at m eight soon  pred:set white in m eight soon\n",
      "target:lay green by j five now  pred:lay green by g five now\n",
      "target:set green by s seven please  pred:set green by s seven please\n",
      "target:set blue with t four now  pred:set blue with z four now\n",
      "target:set white in s seven now  pred:set white in s seven now\n",
      "target:set red at z seven again  pred:set red iy z seven again\n",
      "target:set red at h one now  pred:set red at h one now\n",
      "target:set blue by g four again  pred:set blue by z four again\n",
      "target:bin blue in p four please  pred:bin blue in p four please\n",
      "target:set blue by l two please  pred:set blue by l two please\n",
      "target:place white with a six now  pred:place white with h six now\n",
      "target:lay red by u six soon  pred:lay red by u six soon\n",
      "target:set red by m two again  pred:set red by m two again\n",
      "target:lay blue at i one again  pred:lay blue at i one again\n",
      "target:set green by h two again  pred:set green by h two again\n",
      "target:bin red by q six soon  pred:bin red by j six soon\n",
      "target:place white by x four now  pred:place white by x four now\n",
      "target:set red in k four soon  pred:set red in k four soon\n",
      "target:set green by b four please  pred:set green by b four please\n",
      "target:place green by y five soon  pred:place green by y five soon\n",
      "target:lay white by r zero again  pred:lay white by r zero again\n",
      "target:lay white at p five soon  pred:lay white in p five soon\n",
      "target:bin green by l two please  pred:bin green by l two please\n",
      "target:lay blue with d four again  pred:lay blue with d four again\n",
      "target:lay red with s zero again  pred:lay red with s zero again\n",
      "target:bin green with s two again  pred:bin green with s two again\n",
      "target:lay white at d seven please  pred:lay white at e seven please\n",
      "target:lay green in q two now  pred:lay green in q two now\n",
      "target:bin white at d eight please  pred:bin white in d eight please\n",
      "target:set blue in m three again  pred:set blue in m hre again\n",
      "target:place red in u three please  pred:place red at u three please\n",
      "target:lay green by d five again  pred:lay green by d five again\n",
      "target:set red with n five now  pred:set red with a five now\n",
      "target:bin green by l three please  pred:bin green by l three please\n",
      "target:bin blue at c two again  pred:bin blue at c two again\n",
      "target:lay blue by o eight again  pred:lay blue by o eight again\n",
      "target:bin red at r four again  pred:bin red an r four again\n"
     ]
    }
   ],
   "source": [
    "## load best network weights\n",
    "net.load_parameters('./checkpoint/best_model_epoches_73_iter_650loss_1.02')\n",
    "pred = net(input_data)\n",
    "pred_convert = char_beam_search(pred)\n",
    "\n",
    "label_convert = char_conv(label.asnumpy())\n",
    "for t,p in zip(label_convert,pred_convert):\n",
    "    print(\"target:{t}  pred:{p}\".format(t=t,p=p))"
   ]
  }
 ],
 "metadata": {
  "kernelspec": {
   "display_name": "Environment (conda_anaconda3)",
   "language": "python",
   "name": "conda_anaconda3"
  },
  "language_info": {
   "codemirror_mode": {
    "name": "ipython",
    "version": 3
   },
   "file_extension": ".py",
   "mimetype": "text/x-python",
   "name": "python",
   "nbconvert_exporter": "python",
   "pygments_lexer": "ipython3",
   "version": "3.6.4"
  }
 },
 "nbformat": 4,
 "nbformat_minor": 2
}

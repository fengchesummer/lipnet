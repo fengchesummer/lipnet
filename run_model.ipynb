{
 "cells": [
  {
   "cell_type": "code",
   "execution_count": 5,
   "metadata": {},
   "outputs": [],
   "source": [
    "import os\n",
    "import sys\n",
    "import glob\n",
    "\n",
    "import numpy as np\n",
    "import mxnet as mx\n",
    "from mxnet import gluon, autograd ,nd\n",
    "from mxnet.gluon import nn, rnn,utils\n",
    "import mxnet.gluon.data.dataset as dataset\n",
    "from mxnet.gluon.data.vision import datasets\n",
    "from mxnet.gluon.data import DataLoader\n",
    "import mxnet.ndarray as F\n",
    "from mxnet.gluon.data.vision import transforms\n",
    "\n",
    "from tqdm import tqdm, trange\n",
    "\n",
    "from mxnet.gluon.data.vision.datasets import image"
   ]
  },
  {
   "cell_type": "code",
   "execution_count": 6,
   "metadata": {},
   "outputs": [],
   "source": [
    "from utils.common import *"
   ]
  },
  {
   "cell_type": "code",
   "execution_count": 7,
   "metadata": {
    "scrolled": true
   },
   "outputs": [],
   "source": [
    "from utils.align import Align"
   ]
  },
  {
   "cell_type": "code",
   "execution_count": 8,
   "metadata": {},
   "outputs": [],
   "source": [
    "class LipsDataset(dataset.Dataset):\n",
    "    def __init__(self, root, align_root, flag=1, transform=None):\n",
    "        self._root = os.path.expanduser(root)\n",
    "        self._align_root = align_root\n",
    "        self._flag = flag\n",
    "        self._transform = transform\n",
    "        self._exts = ['.jpg', '.jpeg', '.png']\n",
    "        self._list_images(self._root)\n",
    "\n",
    "    def _list_images(self, root):\n",
    "        self.labels = []\n",
    "        self.items = []\n",
    "        \n",
    "        folder_path = glob.glob(os.path.join(root, \"*\",\"*\"))\n",
    "    \n",
    "        for folder in folder_path:\n",
    "            label_index = os.path.split(folder)[-1]\n",
    "            filename = glob.glob(os.path.join(folder, \"*\"))\n",
    "            filename.sort()\n",
    "            label = os.path.split(folder)[-1]\n",
    "            self.items.append((filename, label))\n",
    "            \n",
    "    def align_generation(self,file_nm,padding=75):\n",
    "        align = Align(self._align_root+file_nm+'.align')\n",
    "        return nd.array(align.sentence(padding))\n",
    "    \n",
    "    def __getitem__(self, idx):\n",
    "        img = list()\n",
    "        for image_name in self.items[idx][0]:\n",
    "            tmp_img = image.imread(image_name, self._flag)\n",
    "            if self._transform is not None:\n",
    "                tmp_img =  self._transform(tmp_img)\n",
    "            img.append(tmp_img)\n",
    "        img = nd.stack(*img)\n",
    "        #print(self.items[idx][0][0])\n",
    "        label = self.align_generation(self.items[idx][1])\n",
    "        return img, label\n",
    "\n",
    "    def __len__(self):\n",
    "        return len(self.items)\n",
    "    \n",
    "ctx = mx.cpu()"
   ]
  },
  {
   "cell_type": "code",
   "execution_count": 9,
   "metadata": {},
   "outputs": [],
   "source": [
    "class LipNet(nn.Block):\n",
    "    def __init__(self,dr_rate, **kwargs):\n",
    "        super(LipNet, self).__init__(**kwargs)\n",
    "        \n",
    "        with self.name_scope():\n",
    "            self.conv1 = nn.Conv3D(32,kernel_size=(3,5,5),strides=(1,2,2),padding=(1,2,2))\n",
    "            self.bn1 = nn.BatchNorm()\n",
    "            #self.bn1 = nn.InstanceNorm(in_channels=32)\n",
    "            self.dr1 = nn.Dropout(dr_rate)\n",
    "            self.pool1 = nn.MaxPool3D((1,2,2),(1,2,2))\n",
    "            \n",
    "            self.conv2 = nn.Conv3D(64,kernel_size=(3,5,5),strides=(1,1,1),padding=(1,2,2))\n",
    "            self.bn2 = nn.BatchNorm()\n",
    "            #self.bn2 = nn.InstanceNorm(in_channels=64)\n",
    "            self.dr2 = nn.Dropout(dr_rate)\n",
    "            self.pool2 = nn.MaxPool3D((1,2,2),(1,2,2))\n",
    "            \n",
    "            self.conv3 = nn.Conv3D(96,kernel_size=(3,3,3),strides=(1,1,1),padding=(1,2,2))\n",
    "            self.bn3 = nn.BatchNorm()\n",
    "            #self.bn3 = nn.InstanceNorm(in_channels=96)\n",
    "            self.dr3 = nn.Dropout(dr_rate)\n",
    "            self.pool3 = nn.MaxPool3D((1,2,2),(1,2,2))\n",
    "            \n",
    "            self.gru1 = rnn.GRU(256,bidirectional=True)\n",
    "            self.gru2 = rnn.GRU(256,bidirectional=True)\n",
    "            \n",
    "            self.dense = nn.Dense(27+1,flatten=False)\n",
    "            \n",
    "    def summary(self,desc,out):\n",
    "        print(\"=======================================\")\n",
    "        print(\"{d} shape : {o}\".format(d=desc,o=out.shape))\n",
    "            \n",
    "            \n",
    "    def forward(self, x):\n",
    "        out = self.conv1(x)\n",
    "        out = self.bn1(out)\n",
    "        out = F.relu(out)\n",
    "        out = self.dr1(out)\n",
    "        out = self.pool1(out)\n",
    "        \n",
    "        out = self.conv2(out)\n",
    "        out = self.bn2(out)\n",
    "        out = F.relu(out)\n",
    "        out = self.dr2(out)\n",
    "        out = self.pool2(out)\n",
    "        \n",
    "        out = self.conv3(out)\n",
    "        out = self.bn3(out)\n",
    "        out = F.relu(out)\n",
    "        out = self.dr3(out)\n",
    "        out = self.pool3(out)\n",
    "        \n",
    "        out = nd.transpose(out,(2,0,1,3,4))\n",
    "        #out = out.swapaxes(1,2)\n",
    "        out = out.reshape((out.shape[0],out.shape[1],-1))\n",
    "        out = self.gru1(out)\n",
    "        out = self.gru2(out)\n",
    "        out = self.dense(out)\n",
    "        out = F.log_softmax(out,axis=2)\n",
    "        #out = out.swapaxes(0,1)\n",
    "        out = nd.transpose(out,(1,0,2))\n",
    "        \n",
    "        return out"
   ]
  },
  {
   "cell_type": "code",
   "execution_count": null,
   "metadata": {},
   "outputs": [],
   "source": []
  },
  {
   "cell_type": "code",
   "execution_count": 10,
   "metadata": {},
   "outputs": [],
   "source": [
    "def char_conv(out):\n",
    "    out_conv = list()\n",
    "    for i in range(out.shape[0]):\n",
    "        tmp_str = ''\n",
    "        for j in range(out.shape[1]):\n",
    "            if int(out[i][j]) >=0:\n",
    "                tmp_char = int2char(int(out[i][j]))\n",
    "                if int(out[i][j]) == 27:\n",
    "                    tmp_char = ''\n",
    "                tmp_str = tmp_str+tmp_char\n",
    "        out_conv.append(tmp_str)\n",
    "    return out_conv\n",
    "\n",
    "net = LipNet(0.5)\n",
    "net.initialize(ctx=ctx)"
   ]
  },
  {
   "cell_type": "code",
   "execution_count": 11,
   "metadata": {},
   "outputs": [],
   "source": [
    "input_transform  = transforms.Compose([transforms.ToTensor()\n",
    "                                    , transforms.Normalize((0.7136,0.4906,0.3283),(0.1138,0.1078,0.0917))\n",
    "                                 ])"
   ]
  },
  {
   "cell_type": "code",
   "execution_count": 12,
   "metadata": {},
   "outputs": [],
   "source": [
    "training_dataset = LipsDataset('./datasets/TARGET/','./datasets/align/',transform=input_transform)\n",
    "train_dataloader = mx.gluon.data.DataLoader(training_dataset, batch_size=16, shuffle=True,num_workers=4)"
   ]
  },
  {
   "cell_type": "code",
   "execution_count": 13,
   "metadata": {},
   "outputs": [
    {
     "name": "stderr",
     "output_type": "stream",
     "text": [
      "\r",
      "  0%|          | 0/2005 [00:00<?, ?it/s]"
     ]
    }
   ],
   "source": [
    "for input_data, label in tqdm(train_dataloader):\n",
    "    input_data = nd.transpose(input_data,(0,2,1,3,4))\n",
    "    input_data = input_data.copyto(ctx)\n",
    "    label = label.copyto(ctx)\n",
    "    with autograd.train_mode():\n",
    "        pred = net(input_data)\n",
    "    label = label.asnumpy()\n",
    "    pred = pred.argmax(2).asnumpy()\n",
    "    break"
   ]
  },
  {
   "cell_type": "code",
   "execution_count": null,
   "metadata": {},
   "outputs": [],
   "source": []
  },
  {
   "cell_type": "code",
   "execution_count": 15,
   "metadata": {},
   "outputs": [],
   "source": [
    "label_conv = char_conv(label)\n",
    "pred_conv = char_conv(pred)"
   ]
  },
  {
   "cell_type": "code",
   "execution_count": 16,
   "metadata": {},
   "outputs": [
    {
     "data": {
      "text/plain": [
       "['bin red in p six soon',\n",
       " 'set blue with z two again',\n",
       " 'bin red with a zero please',\n",
       " 'place red in n six now',\n",
       " 'lay green in q one please',\n",
       " 'set red with i three soon',\n",
       " 'bin green in y four again',\n",
       " 'set green with j five please',\n",
       " 'place green at d nine again',\n",
       " 'lay red at x five soon',\n",
       " 'bin red by x four soon',\n",
       " 'set white with s seven again',\n",
       " 'place white by p zero now',\n",
       " 'bin green at f eight again',\n",
       " 'set blue by r nine soon',\n",
       " 'bin white at y seven again']"
      ]
     },
     "execution_count": 16,
     "metadata": {},
     "output_type": "execute_result"
    }
   ],
   "source": [
    "label_conv"
   ]
  },
  {
   "cell_type": "code",
   "execution_count": 17,
   "metadata": {},
   "outputs": [
    {
     "data": {
      "text/plain": [
       "['ppcpxpccccccccccgaccxcccxlacltqlttttttttttatttctcccccctqcttaactxxgttppcllll',\n",
       " 'xfgggggg ggxxogggggggxxgggggzzzggggxxxxxxxxxxxxxxxxgxxgxtgxxxzxzzzxzxxxxxz',\n",
       " 'xxxcccxxxxxxxxxloootoxoxxxxxlllxlllclcggllllxxxccooxlxlllcceqqccccxxxxetczc',\n",
       " 'xgtttagxxpppppgglppllgggggpglllgllgaggggggggxxxgxxxxxgglgggggxxxxctgtfaaass',\n",
       " 'rrlaaalllllllllgllgglglggggglgggglgggggggggggggggggggggllgaagggggptgggggggo',\n",
       " 'ippltllccccccoxglllrlggllcgglclllclclllgccllllllcccccccccgalcrarllll  aagls',\n",
       " 'ccccccgttttttcctxtggtttccctttcgggtgttxxtttttccggggttgccccxcccgllttccxxtxx  ',\n",
       " 'xxxxxxllxxxxlllllulxxlllllggazooollllggllllllll    lggggnggglllllllggtzxzz',\n",
       " 'nnnnyyyoyyylgxnaaaaaaaaaaaaaaaaxxxraggggxaaaaaaaaaaaaayylllllllllllggaaggsb',\n",
       " 'yeyylllooaxooelllggglllllllllllloloaaaaaaaaalplaalllllllaaaaaaaalllllllaall',\n",
       " 'pxxxcccoxxxglxxxxxxxxapclloolacccggccaccgxcagggggttttcgcaxxooccoalglllltll',\n",
       " 'xnxalllplllbbbbblbllxxfynyxxxllllllt    xxxxxxlxlllllllllllxxxxbbxxxxxllxxg',\n",
       " 'ptglplgggggggggllgllllllllllllllllllllllllllgglllllllllxggxggggggggaagllggl',\n",
       " 'cfclclcllooo olcggg  ooongggllllollllllxlaagxxllll olooooooooooooooooooolll',\n",
       " 'axxnnnllnnlllxxpllxxxllllllllllllllllyyllllxlllllllllllllllllllllllllllllll',\n",
       " 'ooooooooolcc cgggrclccrlggggggo xolol glllltcxloocollttoltlttttttttgggg  tc']"
      ]
     },
     "execution_count": 17,
     "metadata": {},
     "output_type": "execute_result"
    }
   ],
   "source": [
    "pred_conv"
   ]
  },
  {
   "cell_type": "code",
   "execution_count": null,
   "metadata": {},
   "outputs": [],
   "source": []
  }
 ],
 "metadata": {
  "kernelspec": {
   "display_name": "Python 3",
   "language": "python",
   "name": "python3"
  },
  "language_info": {
   "codemirror_mode": {
    "name": "ipython",
    "version": 3
   },
   "file_extension": ".py",
   "mimetype": "text/x-python",
   "name": "python",
   "nbconvert_exporter": "python",
   "pygments_lexer": "ipython3",
   "version": "3.6.3"
  }
 },
 "nbformat": 4,
 "nbformat_minor": 2
}

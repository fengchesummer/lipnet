{
 "cells": [
  {
   "cell_type": "code",
   "execution_count": 1,
   "metadata": {},
   "outputs": [],
   "source": [
    "import os\n",
    "import sys\n",
    "import glob\n",
    "\n",
    "import numpy as np\n",
    "import mxnet as mx\n",
    "from mxnet import gluon, autograd ,nd\n",
    "from mxnet.gluon import nn, rnn,utils\n",
    "import mxnet.gluon.data.dataset as dataset\n",
    "from mxnet.gluon.data.vision import datasets\n",
    "from mxnet.gluon.data import DataLoader\n",
    "import mxnet.ndarray as F\n",
    "from mxnet.gluon.data.vision import transforms\n",
    "\n",
    "from tqdm import tqdm, trange\n",
    "\n",
    "from mxnet.gluon.data.vision.datasets import image"
   ]
  },
  {
   "cell_type": "code",
   "execution_count": 2,
   "metadata": {},
   "outputs": [],
   "source": [
    "from utils.common import *"
   ]
  },
  {
   "cell_type": "code",
   "execution_count": 3,
   "metadata": {
    "scrolled": true
   },
   "outputs": [],
   "source": [
    "from utils.align import Align"
   ]
  },
  {
   "cell_type": "code",
   "execution_count": 4,
   "metadata": {},
   "outputs": [],
   "source": [
    "class LipsDataset(dataset.Dataset):\n",
    "    def __init__(self, root, align_root, flag=1, transform=None):\n",
    "        self._root = os.path.expanduser(root)\n",
    "        self._align_root = align_root\n",
    "        self._flag = flag\n",
    "        self._transform = transform\n",
    "        self._exts = ['.jpg', '.jpeg', '.png']\n",
    "        self._list_images(self._root)\n",
    "\n",
    "    def _list_images(self, root):\n",
    "        self.labels = []\n",
    "        self.items = []\n",
    "        \n",
    "        folder_path = glob.glob(os.path.join(root, \"*\",\"*\"))\n",
    "    \n",
    "        for folder in folder_path:\n",
    "            label_index = os.path.split(folder)[-1]\n",
    "            filename = glob.glob(os.path.join(folder, \"*\"))\n",
    "            filename.sort()\n",
    "            label = os.path.split(folder)[-1]\n",
    "            self.items.append((filename, label))\n",
    "            \n",
    "    def align_generation(self,file_nm,padding=75):\n",
    "        align = Align(self._align_root+file_nm+'.align')\n",
    "        return nd.array(align.sentence(padding))\n",
    "    \n",
    "    def __getitem__(self, idx):\n",
    "        img = list()\n",
    "        for image_name in self.items[idx][0]:\n",
    "            tmp_img = image.imread(image_name, self._flag)\n",
    "            if self._transform is not None:\n",
    "                tmp_img =  self._transform(tmp_img)\n",
    "            img.append(tmp_img)\n",
    "        img = nd.stack(*img)\n",
    "        #print(self.items[idx][0][0])\n",
    "        label = self.align_generation(self.items[idx][1])\n",
    "        return img, label\n",
    "\n",
    "    def __len__(self):\n",
    "        return len(self.items)\n",
    "    \n",
    "ctx = mx.cpu()"
   ]
  },
  {
   "cell_type": "code",
   "execution_count": 5,
   "metadata": {},
   "outputs": [],
   "source": [
    "class LipNet3D(nn.Block):\n",
    "    def __init__(self,dr_rate, **kwargs):\n",
    "        super(LipNet3D, self).__init__(**kwargs)\n",
    "        \n",
    "        with self.name_scope():\n",
    "            self.conv1 = nn.Conv3D(32,kernel_size=(3,5,5),strides=(1,2,2),padding=(1,2,2))\n",
    "            self.bn1 = nn.InstanceNorm(in_channels=32)\n",
    "            self.dr1 = nn.Dropout(dr_rate)\n",
    "            self.pool1 = nn.MaxPool3D((1,2,2),(1,2,2))\n",
    "            \n",
    "            self.conv2 = nn.Conv3D(64,kernel_size=(3,5,5),strides=(1,1,1),padding=(1,2,2))\n",
    "            self.bn2 = nn.InstanceNorm(in_channels=64)\n",
    "            self.dr2 = nn.Dropout(dr_rate)\n",
    "            self.pool2 = nn.MaxPool3D((1,2,2),(1,2,2))\n",
    "            \n",
    "            self.conv3 = nn.Conv3D(96,kernel_size=(3,3,3),strides=(1,1,1),padding=(1,2,2))\n",
    "            self.bn3 = nn.InstanceNorm(in_channels=96)\n",
    "            self.dr3 = nn.Dropout(dr_rate)\n",
    "            self.pool3 = nn.MaxPool3D((1,2,2),(1,2,2))\n",
    "            \n",
    "            self.gru1 = rnn.GRU(256,bidirectional=True)\n",
    "            self.gru2 = rnn.GRU(256,bidirectional=True)\n",
    "            \n",
    "            self.dense = nn.Dense(27+1,flatten=False)\n",
    "            \n",
    "    def summary(self,desc,out):\n",
    "        print(\"=======================================\")\n",
    "        print(\"{d} shape : {o}\".format(d=desc,o=out.shape))\n",
    "            \n",
    "            \n",
    "    def forward(self, x):\n",
    "        out = self.conv1(x)\n",
    "        out = self.bn1(out)\n",
    "        out = F.relu(out)\n",
    "        out = self.dr1(out)\n",
    "        out = self.pool1(out)\n",
    "        \n",
    "        out = self.conv2(out)\n",
    "        out = self.bn2(out)\n",
    "        out = F.relu(out)\n",
    "        out = self.dr2(out)\n",
    "        out = self.pool2(out)\n",
    "        \n",
    "        out = self.conv3(out)\n",
    "        out = self.bn3(out)\n",
    "        out = F.relu(out)\n",
    "        out = self.dr3(out)\n",
    "        out = self.pool3(out)\n",
    "        \n",
    "        out = nd.transpose(out,(2,0,1,3,4))\n",
    "        #out = out.swapaxes(1,2)\n",
    "        out = out.reshape((out.shape[0],out.shape[1],-1))\n",
    "        \n",
    "        print (np.shape(out))\n",
    "        \n",
    "        out = self.gru1(out)\n",
    "        out = self.gru2(out)\n",
    "        out = self.dense(out)\n",
    "        out = F.log_softmax(out,axis=2)\n",
    "        #out = out.swapaxes(0,1)\n",
    "        out = nd.transpose(out,(1,0,2))\n",
    "        \n",
    "        return out"
   ]
  },
  {
   "cell_type": "code",
   "execution_count": 6,
   "metadata": {},
   "outputs": [],
   "source": [
    "class LipNet2D(nn.HybridBlock):\n",
    "    def __init__(self,dr_rate, num_filter=[48] * 10, **kwargs):\n",
    "        super(LipNet2D, self).__init__(**kwargs)\n",
    "        \n",
    "        with self.name_scope():\n",
    "            self.convs = gluon.nn.HybridSequential()\n",
    "            self.bns = gluon.nn.HybridSequential()\n",
    "            self.maxpools = gluon.nn.HybridSequential()\n",
    "            self.dropouts = gluon.nn.HybridSequential()\n",
    "            for f in num_filter:\n",
    "                self.convs.add(nn.Conv2D(channels=f, kernel_size=(3,5), strides=(1,2), padding=(1,2)))\n",
    "                self.bns.add(nn.InstanceNorm(in_channels=f))\n",
    "                self.maxpools.add(nn.Dropout(0))\n",
    "                self.dropouts.add(nn.MaxPool2D((1,2), (1,2)))\n",
    "                  \n",
    "            self.gru1 = rnn.GRU(256,bidirectional=True)\n",
    "            self.gru2 = rnn.GRU(256,bidirectional=True)\n",
    "            \n",
    "            self.dense = nn.Dense(27+1,flatten=False)\n",
    "            \n",
    "    def summary(self,desc,out):\n",
    "        print(\"=======================================\")\n",
    "        print(\"{d} shape : {o}\".format(d=desc,o=out.shape))\n",
    "            \n",
    "            \n",
    "    def hybrid_forward(self, F, x):\n",
    "        out_conv = [dropouts(maxpools(bns(conv(F.slice_axis(x, axis=-1, begin=idx, end=idx+1).squeeze(axis=-1))))) for idx, (conv, bns, maxpools, dropouts) in enumerate(zip(self.convs, self.bns, self.maxpools, self.dropouts))]\n",
    "        out = F.concat(*out_conv, dim=-1)\n",
    "        \n",
    "        out = F.transpose(out,(2,0,1,3))\n",
    "        out = F.reshape(out, (75, 16,-1)) ## seq_len, batch\n",
    "        out = self.gru1(out)\n",
    "        out = self.gru2(out)\n",
    "        out = self.dense(out)\n",
    "        out = F.log_softmax(out,axis=2)\n",
    "        out = F.transpose(out,(1,0,2))\n",
    "        \n",
    "        return out"
   ]
  },
  {
   "cell_type": "code",
   "execution_count": 8,
   "metadata": {},
   "outputs": [],
   "source": [
    "def char_conv(out):\n",
    "    out_conv = list()\n",
    "    for i in range(out.shape[0]):\n",
    "        tmp_str = ''\n",
    "        for j in range(out.shape[1]):\n",
    "            if int(out[i][j]) >=0:\n",
    "                tmp_char = int2char(int(out[i][j]))\n",
    "                if int(out[i][j]) == 27:\n",
    "                    tmp_char = ''\n",
    "                tmp_str = tmp_str+tmp_char\n",
    "        out_conv.append(tmp_str)\n",
    "    return out_conv"
   ]
  },
  {
   "cell_type": "code",
   "execution_count": 9,
   "metadata": {},
   "outputs": [],
   "source": [
    "input_transform  = transforms.Compose([transforms.ToTensor()\n",
    "                                    , transforms.Normalize((0.7136,0.4906,0.3283),(0.1138,0.1078,0.0917))\n",
    "                                 ])"
   ]
  },
  {
   "cell_type": "code",
   "execution_count": 10,
   "metadata": {},
   "outputs": [],
   "source": [
    "training_dataset = LipsDataset('./datasets/TARGET/','./datasets/align/',transform=input_transform)\n",
    "train_dataloader = mx.gluon.data.DataLoader(training_dataset, batch_size=16, shuffle=True,num_workers=4)"
   ]
  },
  {
   "cell_type": "code",
   "execution_count": 11,
   "metadata": {},
   "outputs": [],
   "source": [
    "net = LipNet2D(0.5) # net = LipNet3D(0.5)\n",
    "net.initialize(ctx=ctx)"
   ]
  },
  {
   "cell_type": "code",
   "execution_count": 12,
   "metadata": {},
   "outputs": [],
   "source": [
    "net.hybridize()"
   ]
  },
  {
   "cell_type": "code",
   "execution_count": null,
   "metadata": {},
   "outputs": [],
   "source": []
  },
  {
   "cell_type": "code",
   "execution_count": 13,
   "metadata": {},
   "outputs": [
    {
     "name": "stderr",
     "output_type": "stream",
     "text": [
      "  0%|          | 0/2005 [00:00<?, ?it/s]Process Process-2:\n",
      "Traceback (most recent call last):\n",
      "  File \"/usr/lib/python3.6/multiprocessing/process.py\", line 258, in _bootstrap\n",
      "    self.run()\n",
      "  File \"/usr/lib/python3.6/multiprocessing/process.py\", line 93, in run\n",
      "    self._target(*self._args, **self._kwargs)\n",
      "  File \"/home/hyungjunkim/python/venv/dl3.6/lib/python3.6/site-packages/mxnet/gluon/data/dataloader.py\", line 170, in worker_loop\n",
      "    data_queue.put((idx, batch))\n",
      "  File \"/usr/lib/python3.6/multiprocessing/queues.py\", line 341, in put\n",
      "    obj = _ForkingPickler.dumps(obj)\n",
      "  File \"/usr/lib/python3.6/multiprocessing/reduction.py\", line 51, in dumps\n",
      "    cls(buf, protocol).dump(obj)\n",
      "  File \"/home/hyungjunkim/python/venv/dl3.6/lib/python3.6/site-packages/mxnet/gluon/data/dataloader.py\", line 63, in reduce_ndarray\n",
      "    pid, fd, shape, dtype = data._to_shared_mem()\n",
      "  File \"/home/hyungjunkim/python/venv/dl3.6/lib/python3.6/site-packages/mxnet/ndarray/ndarray.py\", line 200, in _to_shared_mem\n",
      "    self.handle, ctypes.byref(shared_pid), ctypes.byref(shared_id)))\n",
      "  File \"/home/hyungjunkim/python/venv/dl3.6/lib/python3.6/site-packages/mxnet/base.py\", line 252, in check_call\n",
      "    raise MXNetError(py_str(_LIB.MXGetLastError()))\n",
      "mxnet.base.MXNetError: [17:15:37] include/mxnet/././tensor_blob.h:257: Check failed: this->shape_.Size() == shape.Size() (1110000 vs. 1125000) TBlob.get_with_shape: new and old shape do not match total elements\n",
      "\n",
      "Stack trace returned 10 entries:\n",
      "[bt] (0) /home/hyungjunkim/python/venv/dl3.6/lib/python3.6/site-packages/mxnet/libmxnet.so(+0x36bac2) [0x7fcd868ebac2]\n",
      "[bt] (1) /home/hyungjunkim/python/venv/dl3.6/lib/python3.6/site-packages/mxnet/libmxnet.so(+0x36c0a8) [0x7fcd868ec0a8]\n",
      "[bt] (2) /home/hyungjunkim/python/venv/dl3.6/lib/python3.6/site-packages/mxnet/libmxnet.so(+0x3d67a5) [0x7fcd869567a5]\n",
      "[bt] (3) /home/hyungjunkim/python/venv/dl3.6/lib/python3.6/site-packages/mxnet/libmxnet.so(+0x2c6472c) [0x7fcd891e472c]\n",
      "[bt] (4) /home/hyungjunkim/python/venv/dl3.6/lib/python3.6/site-packages/mxnet/libmxnet.so(+0x2fa9791) [0x7fcd89529791]\n",
      "[bt] (5) /home/hyungjunkim/python/venv/dl3.6/lib/python3.6/site-packages/mxnet/libmxnet.so(+0x2f0fae3) [0x7fcd8948fae3]\n",
      "[bt] (6) /home/hyungjunkim/python/venv/dl3.6/lib/python3.6/site-packages/mxnet/libmxnet.so(+0x2f17cf4) [0x7fcd89497cf4]\n",
      "[bt] (7) /home/hyungjunkim/python/venv/dl3.6/lib/python3.6/site-packages/mxnet/libmxnet.so(+0x2f1bc41) [0x7fcd8949bc41]\n",
      "[bt] (8) /home/hyungjunkim/python/venv/dl3.6/lib/python3.6/site-packages/mxnet/libmxnet.so(+0x2f183bb) [0x7fcd894983bb]\n",
      "[bt] (9) /usr/lib/x86_64-linux-gnu/libstdc++.so.6(+0xb8c80) [0x7fcdd7befc80]\n",
      "\n",
      "\n"
     ]
    },
    {
     "name": "stdout",
     "output_type": "stream",
     "text": [
      "infer_shape error. Arguments:\n",
      "  data: (16, 3, 75, 50, 100)\n"
     ]
    },
    {
     "name": "stderr",
     "output_type": "stream",
     "text": [
      "\n"
     ]
    },
    {
     "ename": "ValueError",
     "evalue": "Deferred initialization failed because shape cannot be inferred. Error in operator lipnet2d_test0_concat0: [17:15:37] src/operator/nn/concat.cc:66: Check failed: shape_assign(&(*in_shape)[i], dshape) Incompatible input shape: expected [16,48,75,0], got [16,3,75,50]\n\nStack trace returned 10 entries:\n[bt] (0) /home/hyungjunkim/python/venv/dl3.6/lib/python3.6/site-packages/mxnet/libmxnet.so(+0x36bac2) [0x7fcd868ebac2]\n[bt] (1) /home/hyungjunkim/python/venv/dl3.6/lib/python3.6/site-packages/mxnet/libmxnet.so(+0x36c0a8) [0x7fcd868ec0a8]\n[bt] (2) /home/hyungjunkim/python/venv/dl3.6/lib/python3.6/site-packages/mxnet/libmxnet.so(+0x5fabf8) [0x7fcd86b7abf8]\n[bt] (3) /home/hyungjunkim/python/venv/dl3.6/lib/python3.6/site-packages/mxnet/libmxnet.so(+0x2f6e64f) [0x7fcd894ee64f]\n[bt] (4) /home/hyungjunkim/python/venv/dl3.6/lib/python3.6/site-packages/mxnet/libmxnet.so(+0x2f711a4) [0x7fcd894f11a4]\n[bt] (5) /home/hyungjunkim/python/venv/dl3.6/lib/python3.6/site-packages/mxnet/libmxnet.so(MXSymbolInferShape+0x1539) [0x7fcd894686a9]\n[bt] (6) /usr/lib/x86_64-linux-gnu/libffi.so.6(ffi_call_unix64+0x4c) [0x7fcdd8687e40]\n[bt] (7) /usr/lib/x86_64-linux-gnu/libffi.so.6(ffi_call+0x2eb) [0x7fcdd86878ab]\n[bt] (8) /usr/lib/python3.6/lib-dynload/_ctypes.cpython-36m-x86_64-linux-gnu.so(_ctypes_callproc+0x2cf) [0x7fcdd889b95f]\n[bt] (9) /usr/lib/python3.6/lib-dynload/_ctypes.cpython-36m-x86_64-linux-gnu.so(+0x8949) [0x7fcdd8892949]\n\n",
     "output_type": "error",
     "traceback": [
      "\u001b[0;31m---------------------------------------------------------------------------\u001b[0m",
      "\u001b[0;31mDeferredInitializationError\u001b[0m               Traceback (most recent call last)",
      "\u001b[0;32m~/python/venv/dl3.6/lib/python3.6/site-packages/mxnet/gluon/block.py\u001b[0m in \u001b[0;36m_call_cached_op\u001b[0;34m(self, *args)\u001b[0m\n\u001b[1;32m    803\u001b[0m             cargs = [args[i] if is_arg else i.data()\n\u001b[0;32m--> 804\u001b[0;31m                      for is_arg, i in self._cached_op_args]\n\u001b[0m\u001b[1;32m    805\u001b[0m         \u001b[0;32mexcept\u001b[0m \u001b[0mDeferredInitializationError\u001b[0m\u001b[0;34m:\u001b[0m\u001b[0;34m\u001b[0m\u001b[0m\n",
      "\u001b[0;32m~/python/venv/dl3.6/lib/python3.6/site-packages/mxnet/gluon/block.py\u001b[0m in \u001b[0;36m<listcomp>\u001b[0;34m(.0)\u001b[0m\n\u001b[1;32m    803\u001b[0m             cargs = [args[i] if is_arg else i.data()\n\u001b[0;32m--> 804\u001b[0;31m                      for is_arg, i in self._cached_op_args]\n\u001b[0m\u001b[1;32m    805\u001b[0m         \u001b[0;32mexcept\u001b[0m \u001b[0mDeferredInitializationError\u001b[0m\u001b[0;34m:\u001b[0m\u001b[0;34m\u001b[0m\u001b[0m\n",
      "\u001b[0;32m~/python/venv/dl3.6/lib/python3.6/site-packages/mxnet/gluon/parameter.py\u001b[0m in \u001b[0;36mdata\u001b[0;34m(self, ctx)\u001b[0m\n\u001b[1;32m    493\u001b[0m                                \"instead.\" % (self.name, str(ctx), self._stype))\n\u001b[0;32m--> 494\u001b[0;31m         \u001b[0;32mreturn\u001b[0m \u001b[0mself\u001b[0m\u001b[0;34m.\u001b[0m\u001b[0m_check_and_get\u001b[0m\u001b[0;34m(\u001b[0m\u001b[0mself\u001b[0m\u001b[0;34m.\u001b[0m\u001b[0m_data\u001b[0m\u001b[0;34m,\u001b[0m \u001b[0mctx\u001b[0m\u001b[0;34m)\u001b[0m\u001b[0;34m\u001b[0m\u001b[0m\n\u001b[0m\u001b[1;32m    495\u001b[0m \u001b[0;34m\u001b[0m\u001b[0m\n",
      "\u001b[0;32m~/python/venv/dl3.6/lib/python3.6/site-packages/mxnet/gluon/parameter.py\u001b[0m in \u001b[0;36m_check_and_get\u001b[0;34m(self, arr_list, ctx)\u001b[0m\n\u001b[1;32m    207\u001b[0m                 \u001b[0;34m\"You can also avoid deferred initialization by specifying in_units, \"\u001b[0m\u001b[0;31m \u001b[0m\u001b[0;31m\\\u001b[0m\u001b[0;34m\u001b[0m\u001b[0m\n\u001b[0;32m--> 208\u001b[0;31m                 \"num_features, etc., for network layers.\"%(self.name))\n\u001b[0m\u001b[1;32m    209\u001b[0m         raise RuntimeError(\n",
      "\u001b[0;31mDeferredInitializationError\u001b[0m: Parameter 'lipnet2d_test0_conv0_weight' has not been initialized yet because initialization was deferred. Actual initialization happens during the first forward pass. Please pass one batch of data through the network before accessing Parameters. You can also avoid deferred initialization by specifying in_units, num_features, etc., for network layers.",
      "\nDuring handling of the above exception, another exception occurred:\n",
      "\u001b[0;31mMXNetError\u001b[0m                                Traceback (most recent call last)",
      "\u001b[0;32m~/python/venv/dl3.6/lib/python3.6/site-packages/mxnet/gluon/block.py\u001b[0m in \u001b[0;36m_deferred_infer_shape\u001b[0;34m(self, *args)\u001b[0m\n\u001b[1;32m    789\u001b[0m         \u001b[0;32mtry\u001b[0m\u001b[0;34m:\u001b[0m\u001b[0;34m\u001b[0m\u001b[0m\n\u001b[0;32m--> 790\u001b[0;31m             \u001b[0mself\u001b[0m\u001b[0;34m.\u001b[0m\u001b[0minfer_shape\u001b[0m\u001b[0;34m(\u001b[0m\u001b[0;34m*\u001b[0m\u001b[0margs\u001b[0m\u001b[0;34m)\u001b[0m\u001b[0;34m\u001b[0m\u001b[0m\n\u001b[0m\u001b[1;32m    791\u001b[0m         \u001b[0;32mexcept\u001b[0m \u001b[0mException\u001b[0m \u001b[0;32mas\u001b[0m \u001b[0me\u001b[0m\u001b[0;34m:\u001b[0m\u001b[0;34m\u001b[0m\u001b[0m\n",
      "\u001b[0;32m~/python/venv/dl3.6/lib/python3.6/site-packages/mxnet/gluon/block.py\u001b[0m in \u001b[0;36minfer_shape\u001b[0;34m(self, *args)\u001b[0m\n\u001b[1;32m    862\u001b[0m         \u001b[0;34m\"\"\"Infers shape of Parameters from inputs.\"\"\"\u001b[0m\u001b[0;34m\u001b[0m\u001b[0m\n\u001b[0;32m--> 863\u001b[0;31m         \u001b[0mself\u001b[0m\u001b[0;34m.\u001b[0m\u001b[0m_infer_attrs\u001b[0m\u001b[0;34m(\u001b[0m\u001b[0;34m'infer_shape'\u001b[0m\u001b[0;34m,\u001b[0m \u001b[0;34m'shape'\u001b[0m\u001b[0;34m,\u001b[0m \u001b[0;34m*\u001b[0m\u001b[0margs\u001b[0m\u001b[0;34m)\u001b[0m\u001b[0;34m\u001b[0m\u001b[0m\n\u001b[0m\u001b[1;32m    864\u001b[0m \u001b[0;34m\u001b[0m\u001b[0m\n",
      "\u001b[0;32m~/python/venv/dl3.6/lib/python3.6/site-packages/mxnet/gluon/block.py\u001b[0m in \u001b[0;36m_infer_attrs\u001b[0;34m(self, infer_fn, attr, *args)\u001b[0m\n\u001b[1;32m    851\u001b[0m             arg_attrs, _, aux_attrs = getattr(out, infer_fn)(\n\u001b[0;32m--> 852\u001b[0;31m                 **{i.name: getattr(j, attr) for i, j in zip(inputs, args)})\n\u001b[0m\u001b[1;32m    853\u001b[0m             \u001b[0;32mif\u001b[0m \u001b[0marg_attrs\u001b[0m \u001b[0;32mis\u001b[0m \u001b[0;32mNone\u001b[0m\u001b[0;34m:\u001b[0m\u001b[0;34m\u001b[0m\u001b[0m\n",
      "\u001b[0;32m~/python/venv/dl3.6/lib/python3.6/site-packages/mxnet/symbol/symbol.py\u001b[0m in \u001b[0;36minfer_shape\u001b[0;34m(self, *args, **kwargs)\u001b[0m\n\u001b[1;32m    995\u001b[0m         \u001b[0;32mtry\u001b[0m\u001b[0;34m:\u001b[0m\u001b[0;34m\u001b[0m\u001b[0m\n\u001b[0;32m--> 996\u001b[0;31m             \u001b[0mres\u001b[0m \u001b[0;34m=\u001b[0m \u001b[0mself\u001b[0m\u001b[0;34m.\u001b[0m\u001b[0m_infer_shape_impl\u001b[0m\u001b[0;34m(\u001b[0m\u001b[0;32mFalse\u001b[0m\u001b[0;34m,\u001b[0m \u001b[0;34m*\u001b[0m\u001b[0margs\u001b[0m\u001b[0;34m,\u001b[0m \u001b[0;34m**\u001b[0m\u001b[0mkwargs\u001b[0m\u001b[0;34m)\u001b[0m\u001b[0;34m\u001b[0m\u001b[0m\n\u001b[0m\u001b[1;32m    997\u001b[0m             \u001b[0;32mif\u001b[0m \u001b[0mres\u001b[0m\u001b[0;34m[\u001b[0m\u001b[0;36m1\u001b[0m\u001b[0;34m]\u001b[0m \u001b[0;32mis\u001b[0m \u001b[0;32mNone\u001b[0m\u001b[0;34m:\u001b[0m\u001b[0;34m\u001b[0m\u001b[0m\n",
      "\u001b[0;32m~/python/venv/dl3.6/lib/python3.6/site-packages/mxnet/symbol/symbol.py\u001b[0m in \u001b[0;36m_infer_shape_impl\u001b[0;34m(self, partial, *args, **kwargs)\u001b[0m\n\u001b[1;32m   1125\u001b[0m             \u001b[0mctypes\u001b[0m\u001b[0;34m.\u001b[0m\u001b[0mbyref\u001b[0m\u001b[0;34m(\u001b[0m\u001b[0maux_shape_data\u001b[0m\u001b[0;34m)\u001b[0m\u001b[0;34m,\u001b[0m\u001b[0;34m\u001b[0m\u001b[0m\n\u001b[0;32m-> 1126\u001b[0;31m             ctypes.byref(complete)))\n\u001b[0m\u001b[1;32m   1127\u001b[0m         \u001b[0;32mif\u001b[0m \u001b[0mcomplete\u001b[0m\u001b[0;34m.\u001b[0m\u001b[0mvalue\u001b[0m \u001b[0;34m!=\u001b[0m \u001b[0;36m0\u001b[0m\u001b[0;34m:\u001b[0m\u001b[0;34m\u001b[0m\u001b[0m\n",
      "\u001b[0;32m~/python/venv/dl3.6/lib/python3.6/site-packages/mxnet/base.py\u001b[0m in \u001b[0;36mcheck_call\u001b[0;34m(ret)\u001b[0m\n\u001b[1;32m    251\u001b[0m     \u001b[0;32mif\u001b[0m \u001b[0mret\u001b[0m \u001b[0;34m!=\u001b[0m \u001b[0;36m0\u001b[0m\u001b[0;34m:\u001b[0m\u001b[0;34m\u001b[0m\u001b[0m\n\u001b[0;32m--> 252\u001b[0;31m         \u001b[0;32mraise\u001b[0m \u001b[0mMXNetError\u001b[0m\u001b[0;34m(\u001b[0m\u001b[0mpy_str\u001b[0m\u001b[0;34m(\u001b[0m\u001b[0m_LIB\u001b[0m\u001b[0;34m.\u001b[0m\u001b[0mMXGetLastError\u001b[0m\u001b[0;34m(\u001b[0m\u001b[0;34m)\u001b[0m\u001b[0;34m)\u001b[0m\u001b[0;34m)\u001b[0m\u001b[0;34m\u001b[0m\u001b[0m\n\u001b[0m\u001b[1;32m    253\u001b[0m \u001b[0;34m\u001b[0m\u001b[0m\n",
      "\u001b[0;31mMXNetError\u001b[0m: Error in operator lipnet2d_test0_concat0: [17:15:37] src/operator/nn/concat.cc:66: Check failed: shape_assign(&(*in_shape)[i], dshape) Incompatible input shape: expected [16,48,75,0], got [16,3,75,50]\n\nStack trace returned 10 entries:\n[bt] (0) /home/hyungjunkim/python/venv/dl3.6/lib/python3.6/site-packages/mxnet/libmxnet.so(+0x36bac2) [0x7fcd868ebac2]\n[bt] (1) /home/hyungjunkim/python/venv/dl3.6/lib/python3.6/site-packages/mxnet/libmxnet.so(+0x36c0a8) [0x7fcd868ec0a8]\n[bt] (2) /home/hyungjunkim/python/venv/dl3.6/lib/python3.6/site-packages/mxnet/libmxnet.so(+0x5fabf8) [0x7fcd86b7abf8]\n[bt] (3) /home/hyungjunkim/python/venv/dl3.6/lib/python3.6/site-packages/mxnet/libmxnet.so(+0x2f6e64f) [0x7fcd894ee64f]\n[bt] (4) /home/hyungjunkim/python/venv/dl3.6/lib/python3.6/site-packages/mxnet/libmxnet.so(+0x2f711a4) [0x7fcd894f11a4]\n[bt] (5) /home/hyungjunkim/python/venv/dl3.6/lib/python3.6/site-packages/mxnet/libmxnet.so(MXSymbolInferShape+0x1539) [0x7fcd894686a9]\n[bt] (6) /usr/lib/x86_64-linux-gnu/libffi.so.6(ffi_call_unix64+0x4c) [0x7fcdd8687e40]\n[bt] (7) /usr/lib/x86_64-linux-gnu/libffi.so.6(ffi_call+0x2eb) [0x7fcdd86878ab]\n[bt] (8) /usr/lib/python3.6/lib-dynload/_ctypes.cpython-36m-x86_64-linux-gnu.so(_ctypes_callproc+0x2cf) [0x7fcdd889b95f]\n[bt] (9) /usr/lib/python3.6/lib-dynload/_ctypes.cpython-36m-x86_64-linux-gnu.so(+0x8949) [0x7fcdd8892949]\n\n",
      "\nDuring handling of the above exception, another exception occurred:\n",
      "\u001b[0;31mValueError\u001b[0m                                Traceback (most recent call last)",
      "\u001b[0;32m<ipython-input-13-babaa4a59aa5>\u001b[0m in \u001b[0;36m<module>\u001b[0;34m()\u001b[0m\n\u001b[1;32m      4\u001b[0m     \u001b[0mlabel\u001b[0m \u001b[0;34m=\u001b[0m \u001b[0mlabel\u001b[0m\u001b[0;34m.\u001b[0m\u001b[0mcopyto\u001b[0m\u001b[0;34m(\u001b[0m\u001b[0mctx\u001b[0m\u001b[0;34m)\u001b[0m\u001b[0;34m\u001b[0m\u001b[0m\n\u001b[1;32m      5\u001b[0m     \u001b[0;32mwith\u001b[0m \u001b[0mautograd\u001b[0m\u001b[0;34m.\u001b[0m\u001b[0mtrain_mode\u001b[0m\u001b[0;34m(\u001b[0m\u001b[0;34m)\u001b[0m\u001b[0;34m:\u001b[0m\u001b[0;34m\u001b[0m\u001b[0m\n\u001b[0;32m----> 6\u001b[0;31m         \u001b[0mpred\u001b[0m \u001b[0;34m=\u001b[0m \u001b[0mnet\u001b[0m\u001b[0;34m(\u001b[0m\u001b[0minput_data\u001b[0m\u001b[0;34m)\u001b[0m\u001b[0;34m\u001b[0m\u001b[0m\n\u001b[0m\u001b[1;32m      7\u001b[0m     \u001b[0mlabel\u001b[0m \u001b[0;34m=\u001b[0m \u001b[0mlabel\u001b[0m\u001b[0;34m.\u001b[0m\u001b[0masnumpy\u001b[0m\u001b[0;34m(\u001b[0m\u001b[0;34m)\u001b[0m\u001b[0;34m\u001b[0m\u001b[0m\n\u001b[1;32m      8\u001b[0m     \u001b[0mpred\u001b[0m \u001b[0;34m=\u001b[0m \u001b[0mpred\u001b[0m\u001b[0;34m.\u001b[0m\u001b[0margmax\u001b[0m\u001b[0;34m(\u001b[0m\u001b[0;36m2\u001b[0m\u001b[0;34m)\u001b[0m\u001b[0;34m.\u001b[0m\u001b[0masnumpy\u001b[0m\u001b[0;34m(\u001b[0m\u001b[0;34m)\u001b[0m\u001b[0;34m\u001b[0m\u001b[0m\n",
      "\u001b[0;32m~/python/venv/dl3.6/lib/python3.6/site-packages/mxnet/gluon/block.py\u001b[0m in \u001b[0;36m__call__\u001b[0;34m(self, *args)\u001b[0m\n\u001b[1;32m    539\u001b[0m             \u001b[0mhook\u001b[0m\u001b[0;34m(\u001b[0m\u001b[0mself\u001b[0m\u001b[0;34m,\u001b[0m \u001b[0margs\u001b[0m\u001b[0;34m)\u001b[0m\u001b[0;34m\u001b[0m\u001b[0m\n\u001b[1;32m    540\u001b[0m \u001b[0;34m\u001b[0m\u001b[0m\n\u001b[0;32m--> 541\u001b[0;31m         \u001b[0mout\u001b[0m \u001b[0;34m=\u001b[0m \u001b[0mself\u001b[0m\u001b[0;34m.\u001b[0m\u001b[0mforward\u001b[0m\u001b[0;34m(\u001b[0m\u001b[0;34m*\u001b[0m\u001b[0margs\u001b[0m\u001b[0;34m)\u001b[0m\u001b[0;34m\u001b[0m\u001b[0m\n\u001b[0m\u001b[1;32m    542\u001b[0m \u001b[0;34m\u001b[0m\u001b[0m\n\u001b[1;32m    543\u001b[0m         \u001b[0;32mfor\u001b[0m \u001b[0mhook\u001b[0m \u001b[0;32min\u001b[0m \u001b[0mself\u001b[0m\u001b[0;34m.\u001b[0m\u001b[0m_forward_hooks\u001b[0m\u001b[0;34m.\u001b[0m\u001b[0mvalues\u001b[0m\u001b[0;34m(\u001b[0m\u001b[0;34m)\u001b[0m\u001b[0;34m:\u001b[0m\u001b[0;34m\u001b[0m\u001b[0m\n",
      "\u001b[0;32m~/python/venv/dl3.6/lib/python3.6/site-packages/mxnet/gluon/block.py\u001b[0m in \u001b[0;36mforward\u001b[0;34m(self, x, *args)\u001b[0m\n\u001b[1;32m    906\u001b[0m             \u001b[0;32mwith\u001b[0m \u001b[0mx\u001b[0m\u001b[0;34m.\u001b[0m\u001b[0mcontext\u001b[0m \u001b[0;32mas\u001b[0m \u001b[0mctx\u001b[0m\u001b[0;34m:\u001b[0m\u001b[0;34m\u001b[0m\u001b[0m\n\u001b[1;32m    907\u001b[0m                 \u001b[0;32mif\u001b[0m \u001b[0mself\u001b[0m\u001b[0;34m.\u001b[0m\u001b[0m_active\u001b[0m\u001b[0;34m:\u001b[0m\u001b[0;34m\u001b[0m\u001b[0m\n\u001b[0;32m--> 908\u001b[0;31m                     \u001b[0;32mreturn\u001b[0m \u001b[0mself\u001b[0m\u001b[0;34m.\u001b[0m\u001b[0m_call_cached_op\u001b[0m\u001b[0;34m(\u001b[0m\u001b[0mx\u001b[0m\u001b[0;34m,\u001b[0m \u001b[0;34m*\u001b[0m\u001b[0margs\u001b[0m\u001b[0;34m)\u001b[0m\u001b[0;34m\u001b[0m\u001b[0m\n\u001b[0m\u001b[1;32m    909\u001b[0m \u001b[0;34m\u001b[0m\u001b[0m\n\u001b[1;32m    910\u001b[0m                 \u001b[0;32mtry\u001b[0m\u001b[0;34m:\u001b[0m\u001b[0;34m\u001b[0m\u001b[0m\n",
      "\u001b[0;32m~/python/venv/dl3.6/lib/python3.6/site-packages/mxnet/gluon/block.py\u001b[0m in \u001b[0;36m_call_cached_op\u001b[0;34m(self, *args)\u001b[0m\n\u001b[1;32m    804\u001b[0m                      for is_arg, i in self._cached_op_args]\n\u001b[1;32m    805\u001b[0m         \u001b[0;32mexcept\u001b[0m \u001b[0mDeferredInitializationError\u001b[0m\u001b[0;34m:\u001b[0m\u001b[0;34m\u001b[0m\u001b[0m\n\u001b[0;32m--> 806\u001b[0;31m             \u001b[0mself\u001b[0m\u001b[0;34m.\u001b[0m\u001b[0m_deferred_infer_shape\u001b[0m\u001b[0;34m(\u001b[0m\u001b[0;34m*\u001b[0m\u001b[0margs\u001b[0m\u001b[0;34m)\u001b[0m\u001b[0;34m\u001b[0m\u001b[0m\n\u001b[0m\u001b[1;32m    807\u001b[0m             \u001b[0mcargs\u001b[0m \u001b[0;34m=\u001b[0m \u001b[0;34m[\u001b[0m\u001b[0;34m]\u001b[0m\u001b[0;34m\u001b[0m\u001b[0m\n\u001b[1;32m    808\u001b[0m             \u001b[0;32mfor\u001b[0m \u001b[0mis_arg\u001b[0m\u001b[0;34m,\u001b[0m \u001b[0mi\u001b[0m \u001b[0;32min\u001b[0m \u001b[0mself\u001b[0m\u001b[0;34m.\u001b[0m\u001b[0m_cached_op_args\u001b[0m\u001b[0;34m:\u001b[0m\u001b[0;34m\u001b[0m\u001b[0m\n",
      "\u001b[0;32m~/python/venv/dl3.6/lib/python3.6/site-packages/mxnet/gluon/block.py\u001b[0m in \u001b[0;36m_deferred_infer_shape\u001b[0;34m(self, *args)\u001b[0m\n\u001b[1;32m    792\u001b[0m             \u001b[0merror_msg\u001b[0m \u001b[0;34m=\u001b[0m \u001b[0;34m\"Deferred initialization failed because shape\"\u001b[0m\u001b[0;31m\\\u001b[0m\u001b[0;34m\u001b[0m\u001b[0m\n\u001b[1;32m    793\u001b[0m                         \u001b[0;34m\" cannot be inferred. {}\"\u001b[0m\u001b[0;34m.\u001b[0m\u001b[0mformat\u001b[0m\u001b[0;34m(\u001b[0m\u001b[0me\u001b[0m\u001b[0;34m)\u001b[0m\u001b[0;34m\u001b[0m\u001b[0m\n\u001b[0;32m--> 794\u001b[0;31m             \u001b[0;32mraise\u001b[0m \u001b[0mValueError\u001b[0m\u001b[0;34m(\u001b[0m\u001b[0merror_msg\u001b[0m\u001b[0;34m)\u001b[0m\u001b[0;34m\u001b[0m\u001b[0m\n\u001b[0m\u001b[1;32m    795\u001b[0m \u001b[0;34m\u001b[0m\u001b[0m\n\u001b[1;32m    796\u001b[0m     \u001b[0;32mdef\u001b[0m \u001b[0m_call_cached_op\u001b[0m\u001b[0;34m(\u001b[0m\u001b[0mself\u001b[0m\u001b[0;34m,\u001b[0m \u001b[0;34m*\u001b[0m\u001b[0margs\u001b[0m\u001b[0;34m)\u001b[0m\u001b[0;34m:\u001b[0m\u001b[0;34m\u001b[0m\u001b[0m\n",
      "\u001b[0;31mValueError\u001b[0m: Deferred initialization failed because shape cannot be inferred. Error in operator lipnet2d_test0_concat0: [17:15:37] src/operator/nn/concat.cc:66: Check failed: shape_assign(&(*in_shape)[i], dshape) Incompatible input shape: expected [16,48,75,0], got [16,3,75,50]\n\nStack trace returned 10 entries:\n[bt] (0) /home/hyungjunkim/python/venv/dl3.6/lib/python3.6/site-packages/mxnet/libmxnet.so(+0x36bac2) [0x7fcd868ebac2]\n[bt] (1) /home/hyungjunkim/python/venv/dl3.6/lib/python3.6/site-packages/mxnet/libmxnet.so(+0x36c0a8) [0x7fcd868ec0a8]\n[bt] (2) /home/hyungjunkim/python/venv/dl3.6/lib/python3.6/site-packages/mxnet/libmxnet.so(+0x5fabf8) [0x7fcd86b7abf8]\n[bt] (3) /home/hyungjunkim/python/venv/dl3.6/lib/python3.6/site-packages/mxnet/libmxnet.so(+0x2f6e64f) [0x7fcd894ee64f]\n[bt] (4) /home/hyungjunkim/python/venv/dl3.6/lib/python3.6/site-packages/mxnet/libmxnet.so(+0x2f711a4) [0x7fcd894f11a4]\n[bt] (5) /home/hyungjunkim/python/venv/dl3.6/lib/python3.6/site-packages/mxnet/libmxnet.so(MXSymbolInferShape+0x1539) [0x7fcd894686a9]\n[bt] (6) /usr/lib/x86_64-linux-gnu/libffi.so.6(ffi_call_unix64+0x4c) [0x7fcdd8687e40]\n[bt] (7) /usr/lib/x86_64-linux-gnu/libffi.so.6(ffi_call+0x2eb) [0x7fcdd86878ab]\n[bt] (8) /usr/lib/python3.6/lib-dynload/_ctypes.cpython-36m-x86_64-linux-gnu.so(_ctypes_callproc+0x2cf) [0x7fcdd889b95f]\n[bt] (9) /usr/lib/python3.6/lib-dynload/_ctypes.cpython-36m-x86_64-linux-gnu.so(+0x8949) [0x7fcdd8892949]\n\n"
     ]
    },
    {
     "name": "stderr",
     "output_type": "stream",
     "text": [
      "Process Process-4:\n",
      "Traceback (most recent call last):\n",
      "  File \"/usr/lib/python3.6/multiprocessing/process.py\", line 258, in _bootstrap\n",
      "    self.run()\n",
      "  File \"/usr/lib/python3.6/multiprocessing/process.py\", line 93, in run\n",
      "    self._target(*self._args, **self._kwargs)\n",
      "  File \"/home/hyungjunkim/python/venv/dl3.6/lib/python3.6/site-packages/mxnet/gluon/data/dataloader.py\", line 170, in worker_loop\n",
      "    data_queue.put((idx, batch))\n",
      "  File \"/usr/lib/python3.6/multiprocessing/queues.py\", line 341, in put\n",
      "    obj = _ForkingPickler.dumps(obj)\n",
      "  File \"/usr/lib/python3.6/multiprocessing/reduction.py\", line 51, in dumps\n",
      "    cls(buf, protocol).dump(obj)\n",
      "  File \"/home/hyungjunkim/python/venv/dl3.6/lib/python3.6/site-packages/mxnet/gluon/data/dataloader.py\", line 63, in reduce_ndarray\n",
      "    pid, fd, shape, dtype = data._to_shared_mem()\n",
      "  File \"/home/hyungjunkim/python/venv/dl3.6/lib/python3.6/site-packages/mxnet/ndarray/ndarray.py\", line 200, in _to_shared_mem\n",
      "    self.handle, ctypes.byref(shared_pid), ctypes.byref(shared_id)))\n",
      "  File \"/home/hyungjunkim/python/venv/dl3.6/lib/python3.6/site-packages/mxnet/base.py\", line 252, in check_call\n",
      "    raise MXNetError(py_str(_LIB.MXGetLastError()))\n",
      "mxnet.base.MXNetError: [17:15:38] include/mxnet/././tensor_blob.h:257: Check failed: this->shape_.Size() == shape.Size() (1110000 vs. 1125000) TBlob.get_with_shape: new and old shape do not match total elements\n",
      "\n",
      "Stack trace returned 10 entries:\n",
      "[bt] (0) /home/hyungjunkim/python/venv/dl3.6/lib/python3.6/site-packages/mxnet/libmxnet.so(+0x36bac2) [0x7fcd868ebac2]\n",
      "[bt] (1) /home/hyungjunkim/python/venv/dl3.6/lib/python3.6/site-packages/mxnet/libmxnet.so(+0x36c0a8) [0x7fcd868ec0a8]\n",
      "[bt] (2) /home/hyungjunkim/python/venv/dl3.6/lib/python3.6/site-packages/mxnet/libmxnet.so(+0x3d67a5) [0x7fcd869567a5]\n",
      "[bt] (3) /home/hyungjunkim/python/venv/dl3.6/lib/python3.6/site-packages/mxnet/libmxnet.so(+0x2c6472c) [0x7fcd891e472c]\n",
      "[bt] (4) /home/hyungjunkim/python/venv/dl3.6/lib/python3.6/site-packages/mxnet/libmxnet.so(+0x2fa9791) [0x7fcd89529791]\n",
      "[bt] (5) /home/hyungjunkim/python/venv/dl3.6/lib/python3.6/site-packages/mxnet/libmxnet.so(+0x2f0fae3) [0x7fcd8948fae3]\n",
      "[bt] (6) /home/hyungjunkim/python/venv/dl3.6/lib/python3.6/site-packages/mxnet/libmxnet.so(+0x2f17cf4) [0x7fcd89497cf4]\n",
      "[bt] (7) /home/hyungjunkim/python/venv/dl3.6/lib/python3.6/site-packages/mxnet/libmxnet.so(+0x2f1bc41) [0x7fcd8949bc41]\n",
      "[bt] (8) /home/hyungjunkim/python/venv/dl3.6/lib/python3.6/site-packages/mxnet/libmxnet.so(+0x2f183bb) [0x7fcd894983bb]\n",
      "[bt] (9) /usr/lib/x86_64-linux-gnu/libstdc++.so.6(+0xb8c80) [0x7fcdd7befc80]\n",
      "\n",
      "\n"
     ]
    }
   ],
   "source": [
    "for input_data, label in tqdm(train_dataloader):\n",
    "    input_data = nd.transpose(input_data,(0,2,1,3,4))\n",
    "    input_data = input_data.copyto(ctx)\n",
    "    label = label.copyto(ctx)\n",
    "    with autograd.train_mode():\n",
    "        pred = net(input_data)\n",
    "    label = label.asnumpy()\n",
    "    pred = pred.argmax(2).asnumpy()\n",
    "    break"
   ]
  },
  {
   "cell_type": "code",
   "execution_count": null,
   "metadata": {},
   "outputs": [],
   "source": []
  },
  {
   "cell_type": "code",
   "execution_count": null,
   "metadata": {},
   "outputs": [],
   "source": [
    "label_conv = char_conv(label)\n",
    "pred_conv = char_conv(pred)"
   ]
  },
  {
   "cell_type": "code",
   "execution_count": null,
   "metadata": {},
   "outputs": [],
   "source": [
    "label_conv"
   ]
  },
  {
   "cell_type": "code",
   "execution_count": null,
   "metadata": {},
   "outputs": [],
   "source": [
    "pred_conv"
   ]
  },
  {
   "cell_type": "code",
   "execution_count": null,
   "metadata": {},
   "outputs": [],
   "source": []
  }
 ],
 "metadata": {
  "kernelspec": {
   "display_name": "Python 3",
   "language": "python",
   "name": "python3"
  },
  "language_info": {
   "codemirror_mode": {
    "name": "ipython",
    "version": 3
   },
   "file_extension": ".py",
   "mimetype": "text/x-python",
   "name": "python",
   "nbconvert_exporter": "python",
   "pygments_lexer": "ipython3",
   "version": "3.6.3"
  }
 },
 "nbformat": 4,
 "nbformat_minor": 2
}
